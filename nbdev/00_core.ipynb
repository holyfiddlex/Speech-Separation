{
 "cells": [
  {
   "cell_type": "code",
   "execution_count": null,
   "metadata": {},
   "outputs": [],
   "source": [
    "# default_exp core"
   ]
  },
  {
   "cell_type": "code",
   "execution_count": null,
   "metadata": {},
   "outputs": [],
   "source": [
    "import nbdev.showdoc as literacy"
   ]
  },
  {
   "cell_type": "code",
   "execution_count": null,
   "metadata": {},
   "outputs": [],
   "source": [
    "#export\n",
    "from speechsep.imports import *\n",
    "import speechsep.utils as utils\n",
    "import speechsep.plot as plot"
   ]
  },
  {
   "cell_type": "markdown",
   "metadata": {},
   "source": [
    "# Core"
   ]
  },
  {
   "cell_type": "markdown",
   "metadata": {},
   "source": [
    "This contains most of the basic functions and spectrogram class types. To visualize the spectrograms we will also include a special color map since this makes it easier to notice differences in audio intensities."
   ]
  },
  {
   "cell_type": "markdown",
   "metadata": {},
   "source": [
    "The most important things to remember are\n",
    "- How to create an AudioItem both from a numpy array and from file.\n",
    "- Creating a SpecImage and how the parameters influence the final result.\n",
    "- Basic SpecImage Visualizer (more indepth explanation here***)"
   ]
  },
  {
   "cell_type": "code",
   "execution_count": null,
   "metadata": {},
   "outputs": [],
   "source": [
    "#export\n",
    "@delegates(load)\n",
    "def load_audio(fn, **kwargs):\n",
    "    return load(fn)"
   ]
  },
  {
   "cell_type": "code",
   "execution_count": null,
   "metadata": {},
   "outputs": [],
   "source": [
    "fn = Path(\"/home/holydemon/Music/LJ001-0001.wav\")\n",
    "sig, sr = load_audio(fn)\n",
    "display(Audio(sig, rate=sr))"
   ]
  },
  {
   "cell_type": "markdown",
   "metadata": {
    "heading_collapsed": true
   },
   "source": [
    "## AudioItem"
   ]
  },
  {
   "cell_type": "code",
   "execution_count": null,
   "metadata": {
    "hidden": true
   },
   "outputs": [],
   "source": [
    "#export\n",
    "class AudioItem():\n",
    "    def __init__(self, filename=None, signal=None, sample_rate=None):\n",
    "        self.fn = filename\n",
    "        if signal is None         : self.sig, self._sr = load_audio(self.fn)\n",
    "        else                      : self.sig, self._sr = signal, sample_rate\n",
    "        if sample_rate:\n",
    "            self.sr = sample_rate\n",
    "        elif self.sr is None:\n",
    "            raise ValueError('sample_rate must be calculated or given')\n",
    "    def __repr__(self):\n",
    "        display(Audio(self.sig, rate=self.sr))\n",
    "        return f'{self.__str__()}'\n",
    "    def __str__(self):\n",
    "        return f'{self.fn}, {len(self.sig)/self.sr}secs at {self.sr} samples per second'\n",
    "    @delegates(Line2D)\n",
    "    def show(self, **kwargs):\n",
    "        plt.plot(self.sig, **kwargs)\n",
    "    @property\n",
    "    def sr(self): return self._sr\n",
    "    @sr.setter\n",
    "    def sr(self, new_sr):\n",
    "        if self._sr != new_sr:\n",
    "            self.sig = utils.Resample(new_sr)(self.sig, self.sr)\n",
    "        self._sr = new_sr"
   ]
  },
  {
   "cell_type": "code",
   "execution_count": null,
   "metadata": {
    "hidden": true
   },
   "outputs": [],
   "source": [
    "audio = AudioItem(fn)\n",
    "audio.show()\n",
    "audio"
   ]
  },
  {
   "cell_type": "code",
   "execution_count": null,
   "metadata": {
    "hidden": true
   },
   "outputs": [],
   "source": [
    "audio.sr = audio.sr//10\n",
    "audio.show()\n",
    "audio"
   ]
  },
  {
   "cell_type": "markdown",
   "metadata": {},
   "source": [
    "## Spectrograms"
   ]
  },
  {
   "cell_type": "code",
   "execution_count": null,
   "metadata": {},
   "outputs": [],
   "source": [
    "#export\n",
    "def toSpec(audio:AudioItem):\n",
    "    pass"
   ]
  },
  {
   "cell_type": "code",
   "execution_count": null,
   "metadata": {},
   "outputs": [],
   "source": [
    "#export\n",
    "class SpecBase():\n",
    "    def __init__(self, spec, sr, name=None):\n",
    "        self.data = spec\n",
    "        self.sr = sr\n",
    "        self.name = name\n",
    "    @classmethod\n",
    "    def create(cls, fn, sr=None, name=None):\n",
    "        \"Open an `Audio` from path `fn`\"\n",
    "        if isinstance(fn,(Path,str)): return cls.create(AudioItem(fn, sr), name=name)\n",
    "        elif isinstance(fn,AudioItem): return toSpec(fn.sig, fn.sr, name)\n",
    "        elif isinstance(fn,np.ndarray): return cls(fn, sr, name)\n",
    "        raise ValueError('fn must be ndarray, AudioItem or Path')"
   ]
  },
  {
   "cell_type": "code",
   "execution_count": null,
   "metadata": {},
   "outputs": [],
   "source": [
    "    def show(self, ctx=None, **kwargs):\n",
    "        plot.setup_graph(title=title, x_label=x_label, y_label=y_label, fig_size=fig_size)\n",
    "        self._plot(abs(spec[:spec.shape[0]//2]))\n",
    "    @property\n",
    "    def plt_params(self): return self._plt_params\n",
    "    @delegate(plt.pcolormesh)\n",
    "    @plt_params.setter\n",
    "    def plt_params(self, **kwargs):\n",
    "        self._plot = partial(plt.pcolormesh, **kwargs)\n",
    "        self._plt_params = dict(**kwargs)"
   ]
  }
 ],
 "metadata": {
  "kernelspec": {
   "display_name": "Python 3",
   "language": "python",
   "name": "python3"
  },
  "language_info": {
   "codemirror_mode": {
    "name": "ipython",
    "version": 3
   },
   "file_extension": ".py",
   "mimetype": "text/x-python",
   "name": "python",
   "nbconvert_exporter": "python",
   "pygments_lexer": "ipython3",
   "version": "3.7.3"
  }
 },
 "nbformat": 4,
 "nbformat_minor": 2
}
