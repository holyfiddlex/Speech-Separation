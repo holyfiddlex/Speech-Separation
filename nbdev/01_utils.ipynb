{
 "cells": [
  {
   "cell_type": "code",
   "execution_count": 1,
   "metadata": {},
   "outputs": [],
   "source": [
    "# default_exp utils"
   ]
  },
  {
   "cell_type": "code",
   "execution_count": null,
   "metadata": {},
   "outputs": [],
   "source": [
    "import nbdev.showdoc as literacy"
   ]
  },
  {
   "cell_type": "code",
   "execution_count": null,
   "metadata": {},
   "outputs": [],
   "source": [
    "#export\n",
    "import scipy\n",
    "import numpy as np\n",
    "import scipy.io.wavfile"
   ]
  },
  {
   "cell_type": "markdown",
   "metadata": {},
   "source": [
    "# Utils"
   ]
  },
  {
   "cell_type": "markdown",
   "metadata": {},
   "source": [
    "This contains helper functions used for spectrogram creation and audio processing."
   ]
  },
  {
   "cell_type": "markdown",
   "metadata": {},
   "source": [
    "## Fourier Transforms"
   ]
  },
  {
   "cell_type": "code",
   "execution_count": null,
   "metadata": {},
   "outputs": [],
   "source": [
    "#export\n",
    "def stft(input_data, sample_rate, window_size, hop_size):\n",
    "    window = scipy.hamming(window_size)\n",
    "    output = scipy.array([scipy.fft(window*input_data[i:i+window_size]) \n",
    "                         for i in range(0, len(input_data)-window_size, hop_size)])\n",
    "    return output"
   ]
  },
  {
   "cell_type": "code",
   "execution_count": 2,
   "metadata": {},
   "outputs": [],
   "source": [
    "#export\n",
    "def istft(input_data, sample_rate, window_size, hop_size, total_time):\n",
    "    output = scipy.zeros(total_time*sample_rate)\n",
    "    for n,i in enumerate(range(0, len(output)-window_size, hop_size)):\n",
    "        output[i:i+window_size] += scipy.real(scipy.ifft(input_data[n]))\n",
    "    return output"
   ]
  },
  {
   "cell_type": "code",
   "execution_count": 3,
   "metadata": {},
   "outputs": [],
   "source": [
    "#export\n",
    "def low_pass_filter(max_freq, window_size, sample_rate):\n",
    "    fft_bin_width = int(sample_rate/window_size)\n",
    "    max_freq_bin = int(max_freq/fft_bin_width)\n",
    "    filter_block = np.ones(window_size)\n",
    "    filter_block[max_freq_bin:(window_size-max_freq_bin)] = 0\n",
    "    return filter_block\n",
    "\n",
    "def high_pass_filter(min_freq, window_size, sample_rate):\n",
    "    return np.ones(window_size)-low_pass_filter(min_freq, window_size, sample_rate)\n",
    "\n",
    "def write_audio_file(filename, filedata, sample_rate):\n",
    "    scipy.io.wavfile.write(filename, sample_rate, filedata)"
   ]
  },
  {
   "cell_type": "code",
   "execution_count": 4,
   "metadata": {},
   "outputs": [],
   "source": [
    "#export\n",
    "def filter_audio(input_signal, sample_rate, filter_window, window_size=256):\n",
    "    # Setting parameters\n",
    "    hop_size = window_size//2\n",
    "    total_time = len(input_signal)/sample_rate\n",
    "    \n",
    "    # Do actual filtering\n",
    "    stft_output = stft(input_signal, sample_rate, window_size, hop_size)\n",
    "    filtered_result = [original*filter_window for original in stft_output]\n",
    "    resynth = istft(filtered_result, sample_rate, window_size, hop_size, total_time)\n",
    "    \n",
    "    return resynth"
   ]
  },
  {
   "cell_type": "code",
   "execution_count": null,
   "metadata": {},
   "outputs": [],
   "source": []
  }
 ],
 "metadata": {
  "kernelspec": {
   "display_name": "Python 3",
   "language": "python",
   "name": "python3"
  },
  "language_info": {
   "codemirror_mode": {
    "name": "ipython",
    "version": 3
   },
   "file_extension": ".py",
   "mimetype": "text/x-python",
   "name": "python",
   "nbconvert_exporter": "python",
   "pygments_lexer": "ipython3",
   "version": "3.7.3"
  }
 },
 "nbformat": 4,
 "nbformat_minor": 2
}
