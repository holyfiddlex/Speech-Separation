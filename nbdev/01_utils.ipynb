{
 "cells": [
  {
   "cell_type": "code",
   "execution_count": null,
   "metadata": {},
   "outputs": [],
   "source": [
    "# default_exp utils"
   ]
  },
  {
   "cell_type": "code",
   "execution_count": null,
   "metadata": {},
   "outputs": [],
   "source": [
    "import nbdev.showdoc as literacy"
   ]
  },
  {
   "cell_type": "code",
   "execution_count": null,
   "metadata": {},
   "outputs": [],
   "source": [
    "#export\n",
    "from speechsep.imports import *"
   ]
  },
  {
   "cell_type": "markdown",
   "metadata": {},
   "source": [
    "# Utils"
   ]
  },
  {
   "cell_type": "markdown",
   "metadata": {},
   "source": [
    "This contains helper functions used for spectrogram creation and audio processing."
   ]
  },
  {
   "cell_type": "markdown",
   "metadata": {},
   "source": [
    "## Fourier Transforms"
   ]
  },
  {
   "cell_type": "code",
   "execution_count": null,
   "metadata": {
    "code_folding": []
   },
   "outputs": [],
   "source": [
    "#export\n",
    "def time_bins(X, window_size, overlap):\n",
    "    \"\"\"\n",
    "    Create an overlapped version of X\n",
    "    Parameters\n",
    "    ----------\n",
    "    X : ndarray, shape=(n_samples,)\n",
    "        Input signal to window and overlap\n",
    "    window_size : int\n",
    "        Size of windows to take\n",
    "    window_step : int\n",
    "        Step size between windows\n",
    "    Returns\n",
    "    -------\n",
    "    X_strided : shape=(nun_windows, window_size)\n",
    "        2D array of overlapped X\n",
    "    \"\"\"\n",
    "    if window_size % 2 != 0:\n",
    "        raise ValueError(f\"Window size must be even! Recieved {window_size}\")\n",
    "    padding = np.zeros(int(window_size - len(X) % window_size))\n",
    "    X = np.concatenate((X, padding))\n",
    "    slide_length = int(window_size*(1-overlap))\n",
    "    num_windows = (len(X) - window_size) // slide_length\n",
    "    out = np.ndarray((num_windows,window_size),dtype = X.dtype)\n",
    "\n",
    "    for i in range(num_windows):\n",
    "        start = i * slide_length\n",
    "        out[i] = X[start : start+window_size]\n",
    "    return out"
   ]
  },
  {
   "cell_type": "code",
   "execution_count": null,
   "metadata": {
    "code_folding": []
   },
   "outputs": [],
   "source": [
    "#export\n",
    "def stft(X, fftsize=512, win_mult=2, overlap=0.5, normalize=False):\n",
    "    \"\"\"\n",
    "    Compute STFT for 1D real valued input X\n",
    "    \"\"\"\n",
    "    win_size = fftsize*win_mult\n",
    "    X = time_bins(X, win_size, overlap)\n",
    "    hanning = .54 - .46 * np.cos(2 * np.pi * np.arange(win_size) / (win_size - 1))\n",
    "    X = X * hanning.reshape((1, win_size))\n",
    "    X = np.fft.fft(X).T\n",
    "    #X = np.fft.fft(X)[:win_size//2].T\n",
    "    if normalize: X*=256/X.max()\n",
    "    return X"
   ]
  },
  {
   "cell_type": "code",
   "execution_count": null,
   "metadata": {
    "code_folding": []
   },
   "outputs": [],
   "source": [
    "#export\n",
    "def istft(X, fftsize=512, win_mult=2, overlap=0.5, normalize=False):\n",
    "    #X = np.concatenate((X, X[::-1]), axis=0)\n",
    "    X = np.fft.ifft(X.T).real\n",
    "    win_size = len(X[0])\n",
    "    slider_length = int(win_size*(1-overlap))\n",
    "\n",
    "    hanning = .54 - .46 * np.cos(2 * np.pi * np.arange(win_size) / (win_size - 1))\n",
    "    X = X/hanning.reshape((1, win_size))\n",
    "\n",
    "    inv_audio = X[0][0:win_size-slider_length]\n",
    "    for i in range(len(X)):\n",
    "        inv_audio = np.concatenate((inv_audio, X[i][-slider_length:]))\n",
    "    return(inv_audio)"
   ]
  },
  {
   "cell_type": "markdown",
   "metadata": {},
   "source": [
    "## Transforms"
   ]
  },
  {
   "cell_type": "code",
   "execution_count": null,
   "metadata": {},
   "outputs": [],
   "source": [
    "#export\n",
    "def Resample(sr_new):\n",
    "    def _inner(ai):\n",
    "        '''Resample using faster polyphase technique and avoiding FFT computation'''\n",
    "        if(ai.sr == sr_new): return AudioItem(ai)\n",
    "        sig_np = ai.sig.numpy()\n",
    "        sr_gcd = math.gcd(ai.sr, sr_new)\n",
    "        resampled = resample_poly(sig_np, int(sr_new/sr_gcd), int(ai.sr/sr_gcd), axis=-1)\n",
    "        resampled = resampled.astype(np.float32)\n",
    "        return AudioItem((torch.from_numpy(resampled), sr_new, ai.path))\n",
    "    return _inner"
   ]
  },
  {
   "cell_type": "markdown",
   "metadata": {},
   "source": [
    "## Tests"
   ]
  },
  {
   "cell_type": "markdown",
   "metadata": {},
   "source": [
    "## Documentation"
   ]
  },
  {
   "cell_type": "code",
   "execution_count": null,
   "metadata": {},
   "outputs": [],
   "source": [
    "fn = \"/home/holydemon/Music/LJ001-0001.wav\"\n",
    "audio,sr = load(fn)\n",
    "display(Audio(audio, rate=sr))"
   ]
  },
  {
   "cell_type": "code",
   "execution_count": null,
   "metadata": {},
   "outputs": [],
   "source": [
    "spec = stft(audio, win_mult=2, normalize=True)\n",
    "audio_r = istft(spec, win_mult=2)\n",
    "display(Audio(audio_r, rate=sr))"
   ]
  },
  {
   "cell_type": "code",
   "execution_count": null,
   "metadata": {},
   "outputs": [],
   "source": []
  }
 ],
 "metadata": {
  "kernelspec": {
   "display_name": "Python 3",
   "language": "python",
   "name": "python3"
  },
  "language_info": {
   "codemirror_mode": {
    "name": "ipython",
    "version": 3
   },
   "file_extension": ".py",
   "mimetype": "text/x-python",
   "name": "python",
   "nbconvert_exporter": "python",
   "pygments_lexer": "ipython3",
   "version": "3.7.3"
  }
 },
 "nbformat": 4,
 "nbformat_minor": 2
}
