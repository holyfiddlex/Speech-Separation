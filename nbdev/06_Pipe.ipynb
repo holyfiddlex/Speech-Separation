{
 "cells": [
  {
   "cell_type": "code",
   "execution_count": null,
   "metadata": {},
   "outputs": [],
   "source": [
    "# default_exp pipe"
   ]
  },
  {
   "cell_type": "code",
   "execution_count": null,
   "metadata": {},
   "outputs": [],
   "source": [
    "#export\n",
    "from speechsep.imports import *\n",
    "from speechsep.data import *\n",
    "from speechsep.core import *\n",
    "from speechsep.masks import *\n",
    "from speechsep.utils import *"
   ]
  },
  {
   "cell_type": "code",
   "execution_count": null,
   "metadata": {},
   "outputs": [],
   "source": [
    "#export\n",
    "class SiameseSpec(Tuple):\n",
    "    def show(self, ctx=None, **kwargs):\n",
    "        self[0].show()\n",
    "        self[1].show()"
   ]
  },
  {
   "cell_type": "code",
   "execution_count": null,
   "metadata": {},
   "outputs": [],
   "source": [
    "#export\n",
    "class SiamesePiar(Transform):\n",
    "    def __init__(self, items, labels):\n",
    "        store_attr(self, 'items,labels')\n",
    "        self.assoc = self\n",
    "        sortlbl = sorted(enumerate(labels), key=itemgetter(1))\n",
    "        self.clsmap = {k:L(v).itemgot(0) for k,v in itertools.groupby(sortlbl, key=itemgetter(1))}\n",
    "        self.idxs = range_of(self.items)\n",
    "        \n",
    "    def encodes(self, i:int)->None:\n",
    "        othercls=self.clsmap[self.labels[i]] if random.random()>0.5 else self.idxs\n",
    "        othercls=self.idxs\n",
    "        otherit = random.choice(othercls)\n",
    "        return SiameseSpec(self.items[i], self.items[otherit])"
   ]
  },
  {
   "cell_type": "code",
   "execution_count": null,
   "metadata": {},
   "outputs": [],
   "source": [
    "#export\n",
    "def AudioPipe(path):\n",
    "    items = get_audio_files(path)\n",
    "    sp = SiamesePiar(items, items.map(parent_label))\n",
    "    return Pipeline([sp, AudioMono.create, Resample(22050), Clip(5), Mixer, Spectify(), Decibelify()])"
   ]
  },
  {
   "cell_type": "code",
   "execution_count": null,
   "metadata": {},
   "outputs": [],
   "source": [
    "audiopipe = AudioPipe(\"../data/esc50_sample/\")"
   ]
  },
  {
   "cell_type": "code",
   "execution_count": null,
   "metadata": {},
   "outputs": [],
   "source": [
    "out = audiopipe(2)"
   ]
  },
  {
   "cell_type": "code",
   "execution_count": null,
   "metadata": {},
   "outputs": [],
   "source": [
    "out[0].show()"
   ]
  },
  {
   "cell_type": "code",
   "execution_count": null,
   "metadata": {},
   "outputs": [],
   "source": [
    "out[1].show()"
   ]
  },
  {
   "cell_type": "code",
   "execution_count": null,
   "metadata": {},
   "outputs": [],
   "source": [
    "out[2].show()"
   ]
  },
  {
   "cell_type": "code",
   "execution_count": null,
   "metadata": {},
   "outputs": [],
   "source": []
  }
 ],
 "metadata": {
  "kernelspec": {
   "display_name": "Python 3",
   "language": "python",
   "name": "python3"
  }
 },
 "nbformat": 4,
 "nbformat_minor": 2
}
