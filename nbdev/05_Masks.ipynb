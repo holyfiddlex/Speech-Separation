{
 "cells": [
  {
   "cell_type": "code",
   "execution_count": null,
   "metadata": {},
   "outputs": [],
   "source": [
    "# default_exp masks"
   ]
  },
  {
   "cell_type": "code",
   "execution_count": null,
   "metadata": {},
   "outputs": [],
   "source": [
    "from speechsep.imports import *\n",
    "from speechsep.plot import *\n",
    "from speechsep.utils import *"
   ]
  },
  {
   "cell_type": "markdown",
   "metadata": {},
   "source": [
    "#hide\n",
    "fn_list = Path(\"../data/SmallDataset/esc50_sample/\").glob(r\"*/*\")\n",
    "audio_list = [AudioBase(*load(fn)) for fn in fn_list]"
   ]
  },
  {
   "cell_type": "markdown",
   "metadata": {},
   "source": [
    "# Sound Separation Masks\n",
    "> All AudioMasking techniques that I know of."
   ]
  },
  {
   "cell_type": "code",
   "execution_count": null,
   "metadata": {},
   "outputs": [],
   "source": [
    "#export\n",
    "class MaskBase():\n",
    "    _show_args={}\n",
    "    def __init__(self, data, spec_func):\n",
    "        store_attr(self, 'data', 'spec_func')\n",
    "    @property\n",
    "    def shape(self):\n",
    "        return self.data.shape\n",
    "    @classmethod\n",
    "    def create(cls, audios):\n",
    "        joined = join_audios(audios)\n",
    "        return [cls.generate(audio, joined) for audio in audios]\n",
    "    def __mul__(self, spec):\n",
    "        raise NotImplementedError('This function needs to be implemented before use')\n",
    "    def __rmul__(self, spec):\n",
    "        return self*spec\n",
    "    def generate(self, audio, joined):\n",
    "        raise NotImplementedError('This function needs to be implemented before use')\n",
    "    @delegates(setup_graph)\n",
    "    def show(self, ctx=None, **kwargs): return show_mask(self, ctx=ctx, **merge(self._show_args, kwargs))\n"
   ]
  },
  {
   "cell_type": "code",
   "execution_count": null,
   "metadata": {},
   "outputs": [],
   "source": [
    "MaskBase._tensor_cls = TensorMask\n",
    "@ToTensor\n",
    "def encodes(self, o:MaskBase):  return o._tensor_cls(mask2tensor(o))\n",
    "def mask2tensor(mask:MaskBase):  return TensorMask(mask.data)"
   ]
  },
  {
   "cell_type": "code",
   "execution_count": null,
   "metadata": {},
   "outputs": [],
   "source": [
    "#export\n",
    "class MaskBinary(MaskBase):\n",
    "    def __mul__(self, spec):\n",
    "        new_spec = SpecImage(spec.data*self.data, spec.sr, spec.fn)\n",
    "        return new_spec\n",
    "    @classmethod\n",
    "    def generate(cls, audio, joined):\n",
    "        specs = self.spec_func(audio)\n",
    "        return (joined.data <= spec.data)*1"
   ]
  },
  {
   "cell_type": "code",
   "execution_count": null,
   "metadata": {},
   "outputs": [],
   "source": [
    "#export\n",
    "class MaskcIRM(MaskBase):\n",
    "    def __mul__(self, spec):\n",
    "        new_spec = SpecImage(spec.data*self.data, spec.sr, spec.fn)\n",
    "        return new_spec\n",
    "    @classmethod\n",
    "    def generate(cls, audio, joined):\n",
    "        specs = self.spec_func(audio)\n",
    "        return (joined.data <= spec.data)*1"
   ]
  }
 ],
 "metadata": {
  "kernelspec": {
   "display_name": "Python 3",
   "language": "python",
   "name": "python3"
  }
 },
 "nbformat": 4,
 "nbformat_minor": 2
}
