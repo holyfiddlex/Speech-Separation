{
 "cells": [
  {
   "cell_type": "code",
   "execution_count": null,
   "metadata": {},
   "outputs": [],
   "source": [
    "# default_exp masks"
   ]
  },
  {
   "cell_type": "code",
   "execution_count": null,
   "metadata": {},
   "outputs": [],
   "source": [
    "#export\n",
    "from speechsep.imports import *\n",
    "from speechsep.plot import *\n",
    "from speechsep.utils import *\n",
    "from speechsep.base import *\n",
    "from speechsep.core import *"
   ]
  },
  {
   "cell_type": "markdown",
   "metadata": {},
   "source": [
    "#hide\n",
    "fn_list = Path(\"../data/SmallDataset/esc50_sample/\").glob(r\"*/*\")\n",
    "audio_list = [AudioBase(*load(fn)) for fn in fn_list]"
   ]
  },
  {
   "cell_type": "markdown",
   "metadata": {},
   "source": [
    "# Sound Separation Masks\n",
    "> All AudioMasking techniques that I know of."
   ]
  },
  {
   "cell_type": "code",
   "execution_count": null,
   "metadata": {},
   "outputs": [],
   "source": [
    "#export\n",
    "def safe_div(x,y):\n",
    "    return np.divide(x,y, out=np.zeros_like(x.data), where=y!=0)"
   ]
  },
  {
   "cell_type": "code",
   "execution_count": null,
   "metadata": {},
   "outputs": [],
   "source": [
    "#export\n",
    "class MaskBase():\n",
    "    _show_args={}\n",
    "    def __init__(self, data): store_attr(self, 'data')\n",
    "    @property\n",
    "    def shape(self):\n",
    "        return self.data.shape\n",
    "    @classmethod\n",
    "    def create(cls, specs, mix_spec):\n",
    "        return [cls.generate(spec, mix_spec) for spec in specs]\n",
    "    def __mul__(self, spec):\n",
    "        raise NotImplementedError('This function needs to be implemented before use')\n",
    "    def __rmul__(self, spec):\n",
    "        return self*spec\n",
    "    def generate(self, spec, mix_spec):\n",
    "        raise NotImplementedError('This function needs to be implemented before use')\n",
    "    @delegates(setup_graph)\n",
    "    def show(self, ctx=None, **kwargs): return show_mask(self, ctx=ctx, **merge(self._show_args, kwargs))\n"
   ]
  },
  {
   "cell_type": "code",
   "execution_count": null,
   "metadata": {},
   "outputs": [],
   "source": [
    "MaskBase._tensor_cls = TensorMask\n",
    "@ToTensor\n",
    "def encodes(self, o:MaskBase):  return o._tensor_cls(mask2tensor(o))\n",
    "def mask2tensor(mask:MaskBase):  return TensorMask(mask.data)"
   ]
  },
  {
   "cell_type": "markdown",
   "metadata": {},
   "source": [
    "# Mask Types"
   ]
  },
  {
   "cell_type": "markdown",
   "metadata": {},
   "source": [
    "## Binary Mask"
   ]
  },
  {
   "cell_type": "code",
   "execution_count": null,
   "metadata": {},
   "outputs": [],
   "source": [
    "#export\n",
    "class MaskBinary(MaskBase):\n",
    "    def __init__(self, data, threshold=1):\n",
    "        store_attr(self, 'data')\n",
    "    def __mul__(self, spec):\n",
    "        if isinstance(spec, torch.Tensor): return spec*self.data\n",
    "        return SpecBase(spec.data*self.data, spec.sr, spec.fn)\n",
    " \n",
    "    @classmethod\n",
    "    def generate(cls, spec, mix_spec):\n",
    "        Binary = (safe_div(abs(spec.data),abs(mix_spec.data)) >= 1)*1\n",
    "        return cls(Binary)"
   ]
  },
  {
   "cell_type": "markdown",
   "metadata": {},
   "source": [
    "## Complex Ideal Ratio Mask"
   ]
  },
  {
   "cell_type": "code",
   "execution_count": null,
   "metadata": {},
   "outputs": [],
   "source": [
    "#export\n",
    "class MaskcIRM(MaskBase):\n",
    "    def __mul__(self, spec):\n",
    "        if isinstance(spec, SpecBase):\n",
    "            return SpecBase(spec.data*self.data, spec.sr)\n",
    "        elif self.data.requires_grad == True or spec.requires_grad == True:\n",
    "            return complex_mult(self.data, spec)\n",
    "        return real2complex(spec)*real2complex(self.data)\n",
    "\n",
    "    @classmethod\n",
    "    def generate(cls, spec, mix_spec):\n",
    "        cIRM = safe_div(spec.data, mix_spec.data)\n",
    "        return cls(cIRM)"
   ]
  },
  {
   "cell_type": "markdown",
   "metadata": {},
   "source": [
    "# Maskify Transform"
   ]
  },
  {
   "cell_type": "code",
   "execution_count": null,
   "metadata": {},
   "outputs": [],
   "source": [
    "#export\n",
    "class Maskify(TupleTransform):\n",
    "    as_item_force=True\n",
    "    def __init__(self, MaskType=MaskcIRM, Aud2Spec=Spectify()):\n",
    "        store_attr(self, \"MaskType, Aud2Spec\")\n",
    "    def encodes(self, audioList)->None:\n",
    "        specList = [self.Aud2Spec(a) for a in audioList]\n",
    "        joined = AudioBase(join_audios(audioList), audioList[0].sr)\n",
    "        mix_spec = self.Aud2Spec(joined)\n",
    "        maskList = self.MaskType.create(specList, mix_spec)\n",
    "        return mix_spec, maskList\n",
    "    def decodes(self, spec_mask)->None:\n",
    "        mix_spec, maskList = spec_mask\n",
    "        return [self.Aud2Spec.decode(spec*m) for m in maskList]"
   ]
  }
 ],
 "metadata": {
  "kernelspec": {
   "display_name": "Python 3",
   "language": "python",
   "name": "python3"
  }
 },
 "nbformat": 4,
 "nbformat_minor": 2
}
