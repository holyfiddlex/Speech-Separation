{
 "cells": [
  {
   "cell_type": "code",
   "execution_count": null,
   "metadata": {},
   "outputs": [],
   "source": [
    "# default_exp masks"
   ]
  },
  {
   "cell_type": "code",
   "execution_count": null,
   "metadata": {},
   "outputs": [],
   "source": [
    "#export\n",
    "from speechsep.imports import *\n",
    "from speechsep.plot import *\n",
    "from speechsep.utils import *\n",
    "from speechsep.core import *"
   ]
  },
  {
   "cell_type": "markdown",
   "metadata": {},
   "source": [
    "#hide\n",
    "fn_list = Path(\"../data/SmallDataset/esc50_sample/\").glob(r\"*/*\")\n",
    "audio_list = [AudioBase(*load(fn)) for fn in fn_list]"
   ]
  },
  {
   "cell_type": "markdown",
   "metadata": {},
   "source": [
    "# Sound Separation Masks\n",
    "> All AudioMasking techniques that I know of."
   ]
  },
  {
   "cell_type": "code",
   "execution_count": null,
   "metadata": {},
   "outputs": [],
   "source": [
    "#export\n",
    "class MaskBase():\n",
    "    _show_args={}\n",
    "    def __init__(self, data):\n",
    "        store_attr(self, 'data')\n",
    "    @property\n",
    "    def shape(self):\n",
    "        return self.data.shape\n",
    "    @classmethod\n",
    "    def create(cls, specs, mix_spec):\n",
    "        return [cls.generate(spec, mix_spec) for spec in specs]\n",
    "    def __mul__(self, spec):\n",
    "        raise NotImplementedError('This function needs to be implemented before use')\n",
    "    def __rmul__(self, spec):\n",
    "        return self*spec\n",
    "    def generate(self, spec, mix_spec):\n",
    "        raise NotImplementedError('This function needs to be implemented before use')\n",
    "    @delegates(setup_graph)\n",
    "    def show(self, ctx=None, **kwargs): return show_mask(self, ctx=ctx, **merge(self._show_args, kwargs))\n"
   ]
  },
  {
   "cell_type": "code",
   "execution_count": null,
   "metadata": {},
   "outputs": [],
   "source": [
    "MaskBase._tensor_cls = TensorMask\n",
    "@ToTensor\n",
    "def encodes(self, o:MaskBase):  return o._tensor_cls(mask2tensor(o))\n",
    "def mask2tensor(mask:MaskBase):  return TensorMask(mask.data)"
   ]
  },
  {
   "cell_type": "markdown",
   "metadata": {},
   "source": [
    "# Mask Types"
   ]
  },
  {
   "cell_type": "markdown",
   "metadata": {},
   "source": [
    "## Binary Mask"
   ]
  },
  {
   "cell_type": "code",
   "execution_count": null,
   "metadata": {},
   "outputs": [],
   "source": [
    "#export\n",
    "class MaskBinary(MaskBase):\n",
    "    def __mul__(self, spec):\n",
    "        new_spec = SpecImage(spec.data*self.data, spec.sr, spec.fn)\n",
    "        return new_spec\n",
    "    @classmethod\n",
    "    def generate(cls, spec, joined):\n",
    "        return (joined.data <= spec.data)*1"
   ]
  },
  {
   "cell_type": "markdown",
   "metadata": {},
   "source": [
    "## Complex Ideal Ratio Mask"
   ]
  },
  {
   "cell_type": "code",
   "execution_count": null,
   "metadata": {},
   "outputs": [],
   "source": [
    "#export\n",
    "class MaskcIRM(MaskBase):\n",
    "    def __mul__(self, spec):\n",
    "        new_spec = SpecImage(spec.data*self.data, spec.sr, spec.fn)\n",
    "        return new_spec\n",
    "    @classmethod\n",
    "    def generate(cls, spec, joined):\n",
    "        return (joined.data <= spec.data)*1"
   ]
  },
  {
   "cell_type": "markdown",
   "metadata": {},
   "source": [
    "# Maskify Transform"
   ]
  },
  {
   "cell_type": "code",
   "execution_count": null,
   "metadata": {},
   "outputs": [],
   "source": [
    "#export\n",
    "class Maskify(TupleTransform):\n",
    "    as_item_force=True\n",
    "    def __init__(self, MaskType=MaskBinary, Aud2Spec=Spectify):\n",
    "        store_attr(self, \"MaskType, Aud2Spec\")\n",
    "    def encodes(self, audioList)->None:\n",
    "        maskList = self.MaskType.create(audioList)\n",
    "        return audioList, maskList\n",
    "    def decodes(self, audioList, maskList)->None:\n",
    "        return [a*m for a in zip(audioList, maskList)]"
   ]
  }
 ],
 "metadata": {
  "kernelspec": {
   "display_name": "Python 3",
   "language": "python",
   "name": "python3"
  },
  "language_info": {
   "codemirror_mode": {
    "name": "ipython",
    "version": 3
   },
   "file_extension": ".py",
   "mimetype": "text/x-python",
   "name": "python",
   "nbconvert_exporter": "python",
   "pygments_lexer": "ipython3",
   "version": "3.7.5"
  },
  "toc": {
   "base_numbering": 1,
   "nav_menu": {},
   "number_sections": true,
   "sideBar": true,
   "skip_h1_title": false,
   "title_cell": "Table of Contents",
   "title_sidebar": "Contents",
   "toc_cell": false,
   "toc_position": {},
   "toc_section_display": true,
   "toc_window_display": false
  }
 },
 "nbformat": 4,
 "nbformat_minor": 2
}
