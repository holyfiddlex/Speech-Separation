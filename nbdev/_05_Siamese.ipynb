{
 "cells": [
  {
   "cell_type": "code",
   "execution_count": null,
   "metadata": {},
   "outputs": [],
   "source": [
    "%load_ext autoreload\n",
    "%autoreload 2"
   ]
  },
  {
   "cell_type": "code",
   "execution_count": null,
   "metadata": {},
   "outputs": [],
   "source": [
    "from speechsep.imports import *\n",
    "from speechsep.data import *\n",
    "from speechsep.core import *\n",
    "from speechsep.masks import *\n",
    "from speechsep.utils import *"
   ]
  },
  {
   "cell_type": "code",
   "execution_count": null,
   "metadata": {},
   "outputs": [],
   "source": [
    "class SiameseSpec(Tuple):\n",
    "    def show(self, ctx=None, **kwargs):\n",
    "        self[0].show()\n",
    "        self[1].show()"
   ]
  },
  {
   "cell_type": "code",
   "execution_count": null,
   "metadata": {},
   "outputs": [],
   "source": [
    "class SiamesePiar(Transform):\n",
    "    def __init__(self, items, labels):\n",
    "        store_attr(self, 'items,labels')\n",
    "        self.assoc = self\n",
    "        sortlbl = sorted(enumerate(labels), key=itemgetter(1))\n",
    "        self.clsmap = {k:L(v).itemgot(0) for k,v in itertools.groupby(sortlbl, key=itemgetter(1))}\n",
    "        self.idxs = range_of(self.items)\n",
    "        \n",
    "    def encodes(self, i:int)->None:\n",
    "        othercls=self.clsmap[self.labels[i]] if random.random()>0.5 else self.idxs\n",
    "        othercls=self.idxs\n",
    "        otherit = random.choice(othercls)\n",
    "        return SiameseSpec(self.items[i], self.items[otherit])"
   ]
  },
  {
   "cell_type": "markdown",
   "metadata": {},
   "source": [
    "# Data Pipe"
   ]
  },
  {
   "cell_type": "code",
   "execution_count": null,
   "metadata": {},
   "outputs": [],
   "source": [
    "items = get_audio_files(\"../data/SmallDataset/\")"
   ]
  },
  {
   "cell_type": "code",
   "execution_count": null,
   "metadata": {},
   "outputs": [],
   "source": [
    "sp = SiamesePiar(items, items.map(parent_label))\n",
    "maskify = Transform(MaskBinary.create, as_item=True)\n",
    "pipe = Pipeline([sp, AudioMono.create, Resample(22050), Clip(5), Maskify()])"
   ]
  },
  {
   "cell_type": "code",
   "execution_count": null,
   "metadata": {},
   "outputs": [],
   "source": [
    "out = pipe(0)\n",
    "#Spectify().decode(out[0]*out[1][0])\n",
    "#Spectify().decode(out[0]*out[1][1])"
   ]
  },
  {
   "cell_type": "markdown",
   "metadata": {},
   "source": [
    "# Learner"
   ]
  },
  {
   "cell_type": "code",
   "execution_count": null,
   "metadata": {},
   "outputs": [],
   "source": [
    "learner = Learner()"
   ]
  }
 ],
 "metadata": {
  "kernelspec": {
   "display_name": "Python 3",
   "language": "python",
   "name": "python3"
  }
 },
 "nbformat": 4,
 "nbformat_minor": 2
}
