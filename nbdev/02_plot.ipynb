{
 "cells": [
  {
   "cell_type": "code",
   "execution_count": 1,
   "metadata": {},
   "outputs": [],
   "source": [
    "# default_exp plot"
   ]
  },
  {
   "cell_type": "code",
   "execution_count": 2,
   "metadata": {},
   "outputs": [],
   "source": [
    "import nbdev.showdoc as literacy"
   ]
  },
  {
   "cell_type": "code",
   "execution_count": 3,
   "metadata": {},
   "outputs": [],
   "source": [
    "#export\n",
    "import matplotlib\n",
    "import matplotlib.pyplot as plt"
   ]
  },
  {
   "cell_type": "markdown",
   "metadata": {},
   "source": [
    "# Plotting"
   ]
  },
  {
   "cell_type": "code",
   "execution_count": 4,
   "metadata": {},
   "outputs": [],
   "source": [
    "#export\n",
    "def setup_graph(title='', x_label='', y_label='', fig_size=None):\n",
    "    fig = plt.figure()\n",
    "    if fig_size != None:\n",
    "        fig.set_size_inches(fig_size[0], fig_size[1])\n",
    "    ax = fig.add_subplot(111)\n",
    "    ax.set_title(title)\n",
    "    ax.set_xlabel(x_label)\n",
    "    ax.set_ylabel(y_label)"
   ]
  },
  {
   "cell_type": "code",
   "execution_count": 5,
   "metadata": {},
   "outputs": [],
   "source": [
    "#export\n",
    "class ColorMeshPlotter():\n",
    "    def __init__(self, **kwargs):\n",
    "        self._plot = partial(plt.pcolormesh, **kwargs)\n",
    "    def __call__(self, spec, title='', x_label='', y_label='', fig_size=None):\n",
    "        setup_graph(title=title, x_label=x_label, y_label=y_label, fig_size=fig_size)\n",
    "        self._plot(abs(spec[:spec.shape[0]//2]))"
   ]
  },
  {
   "cell_type": "code",
   "execution_count": 6,
   "metadata": {},
   "outputs": [],
   "source": [
    "#export\n",
    "cmap_dict = {'red':  ((0.0, 0.0156, 0.0156),\n",
    "                      (0.3, 1.0, 1.0),\n",
    "                      (0.6, 1.0, 1.0),\n",
    "                      (1.0, 1.0, 1.0)),\n",
    "             'green':((0.0, 0.125, 0.125),\n",
    "                       (0.3, 1.0, 1.0),\n",
    "                       (0.6, 1.0, 1.0),\n",
    "                       (1.0, 1.0, 0.0)),\n",
    "             'blue': ((0.0, 0.25, 0.25),\n",
    "                      (0.3, 1.0, 1.0),\n",
    "                      (0.6, 0.17, 0.17),\n",
    "                      (1.0, 0.0, 0.0))}\n",
    "cmap = matplotlib.colors.LinearSegmentedColormap(None,cmap_dict,256)"
   ]
  },
  {
   "cell_type": "code",
   "execution_count": null,
   "metadata": {},
   "outputs": [],
   "source": []
  }
 ],
 "metadata": {
  "kernelspec": {
   "display_name": "Python 3",
   "language": "python",
   "name": "python3"
  },
  "language_info": {
   "codemirror_mode": {
    "name": "ipython",
    "version": 3
   },
   "file_extension": ".py",
   "mimetype": "text/x-python",
   "name": "python",
   "nbconvert_exporter": "python",
   "pygments_lexer": "ipython3",
   "version": "3.7.3"
  }
 },
 "nbformat": 4,
 "nbformat_minor": 2
}
