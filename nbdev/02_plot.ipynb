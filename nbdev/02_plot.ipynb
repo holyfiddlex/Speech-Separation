{
 "cells": [
  {
   "cell_type": "code",
   "execution_count": null,
   "metadata": {},
   "outputs": [],
   "source": [
    "# default_exp plot"
   ]
  },
  {
   "cell_type": "code",
   "execution_count": null,
   "metadata": {},
   "outputs": [],
   "source": [
    "import nbdev.showdoc as literacy"
   ]
  },
  {
   "cell_type": "code",
   "execution_count": null,
   "metadata": {},
   "outputs": [],
   "source": [
    "#export\n",
    "from speechsep.imports import *\n",
    "from speechsep.base import *"
   ]
  },
  {
   "cell_type": "code",
   "execution_count": null,
   "metadata": {},
   "outputs": [],
   "source": [
    "import speechsep.utils as utils"
   ]
  },
  {
   "cell_type": "markdown",
   "metadata": {},
   "source": [
    "# Plotting"
   ]
  },
  {
   "cell_type": "code",
   "execution_count": null,
   "metadata": {},
   "outputs": [],
   "source": [
    "#export\n",
    "def setup_graph(title='', x_label='', y_label='', fig_size=None):\n",
    "    fig = plt.figure()\n",
    "    if fig_size != None:\n",
    "        fig.set_size_inches(fig_size[0], fig_size[1])\n",
    "    ax = fig.add_subplot(111)\n",
    "    ax.set_title(title)\n",
    "    ax.set_xlabel(x_label)\n",
    "    ax.set_ylabel(y_label)"
   ]
  },
  {
   "cell_type": "code",
   "execution_count": null,
   "metadata": {},
   "outputs": [],
   "source": [
    "#export\n",
    "class ColorMeshPlotter():\n",
    "    def __init__(self, **kwargs):\n",
    "        self._plot = partial(plt.pcolormesh, **kwargs)\n",
    "    def __call__(self, spec, title='', x_label='', y_label='', fig_size=None):\n",
    "        setup_graph(title=title, x_label=x_label, y_label=y_label, fig_size=fig_size)\n",
    "        self._plot(abs(spec[:spec.shape[0]//2]))"
   ]
  },
  {
   "cell_type": "code",
   "execution_count": null,
   "metadata": {},
   "outputs": [],
   "source": [
    "#export\n",
    "cmap_dict = {'red':  ((0.0, 0.0156, 0.0156),\n",
    "                      (0.3, 1.0, 1.0),\n",
    "                      (0.6, 1.0, 1.0),\n",
    "                      (1.0, 1.0, 1.0)),\n",
    "             'green':((0.0, 0.125, 0.125),\n",
    "                       (0.3, 1.0, 1.0),\n",
    "                       (0.6, 1.0, 1.0),\n",
    "                       (1.0, 1.0, 0.0)),\n",
    "             'blue': ((0.0, 0.25, 0.25),\n",
    "                      (0.3, 1.0, 1.0),\n",
    "                      (0.6, 0.17, 0.17),\n",
    "                      (1.0, 0.0, 0.0))}\n",
    "cmap = matplotlib.colors.LinearSegmentedColormap(None,cmap_dict,256)"
   ]
  },
  {
   "cell_type": "markdown",
   "metadata": {},
   "source": [
    "# Plotting"
   ]
  },
  {
   "cell_type": "code",
   "execution_count": null,
   "metadata": {},
   "outputs": [],
   "source": [
    "#export\n",
    "def pre_plot(o, cls, ax=None, pltsize=None, ctx=None):\n",
    "    ax = ifnone(ax,ctx)\n",
    "    if ax is None: _,ax = plt.subplots(figsize=pltsize)\n",
    "    if isinstance(o, cls): o = o.data;\n",
    "    elif not isinstance(o,np.ndarray): o=array(o)\n",
    "    return ax, o\n",
    "\n",
    "def post_plot(ax, title, x_label, y_label, axis=False):\n",
    "    if title is not None: ax.set_title(title)\n",
    "    if x_label is not None: ax.set_xlabel(x_label)\n",
    "    if y_label is not None: ax.set_ylabel(y_label)\n",
    "    if not axis: ax.axis('off')\n",
    "    return ax"
   ]
  },
  {
   "cell_type": "markdown",
   "metadata": {},
   "source": [
    "# Show functions"
   ]
  },
  {
   "cell_type": "code",
   "execution_count": null,
   "metadata": {},
   "outputs": [],
   "source": [
    "#export\n",
    "@delegates(plt.plot)\n",
    "def show_audio(aud, ax=None, pltsize=None, title=None, ctx=None, x_label=None, y_label=None, axis=False, **kwargs):\n",
    "    ax, aud = pre_plot(aud, AudioBase, ax, pltsize, ctx)\n",
    "    ax.plot(aud, **kwargs)\n",
    "    return post_plot(ax, title, x_label, y_label, axis)"
   ]
  },
  {
   "cell_type": "code",
   "execution_count": null,
   "metadata": {},
   "outputs": [],
   "source": [
    "#export\n",
    "@delegates(plt.pcolormesh)\n",
    "def show_spec(spec, ax=None, pltsize=None, title=None, ctx=None, x_label=None, y_label=None, axis=False, **kwargs):\n",
    "    ax, spec = pre_plot(spec, SpecBase, ax, pltsize, ctx)\n",
    "    ax.pcolormesh(np.abs(spec.data[:spec.data.shape[0]//2]), **kwargs)\n",
    "    return post_plot(ax, title, x_label, y_label, axis)"
   ]
  },
  {
   "cell_type": "code",
   "execution_count": null,
   "metadata": {},
   "outputs": [],
   "source": [
    "#export\n",
    "@delegates(plt.pcolormesh)\n",
    "def show_mask(mask, ax=None, pltsize=None, title=None, ctx=None, x_label=None, y_label=None, axis=False, **kwargs):\n",
    "    ax, mask = pre_plot(mask, MaskBase, ax, pltsize, ctx)\n",
    "    ax.pcolormesh(mask, **kwargs)\n",
    "    return post_plot(ax, title, x_label, y_label, axis)"
   ]
  },
  {
   "cell_type": "code",
   "execution_count": null,
   "metadata": {},
   "outputs": [],
   "source": [
    "#export\n",
    "def hear_audio(aud, sr=48000, **kwargs):\n",
    "    if isinstance(aud, AudioBase):  display(Audio(aud.sig, rate=aud.sr))\n",
    "    else:                           display(Audio(aud, rate=sr))"
   ]
  }
 ],
 "metadata": {
  "kernelspec": {
   "display_name": "Python 3",
   "language": "python",
   "name": "python3"
  },
  "language_info": {
   "codemirror_mode": {
    "name": "ipython",
    "version": 3
   },
   "file_extension": ".py",
   "mimetype": "text/x-python",
   "name": "python",
   "nbconvert_exporter": "python",
   "pygments_lexer": "ipython3",
   "version": "3.7.5"
  }
 },
 "nbformat": 4,
 "nbformat_minor": 2
}
